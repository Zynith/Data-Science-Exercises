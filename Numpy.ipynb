{
 "cells": [
  {
   "cell_type": "markdown",
   "id": "0c4052d0-eb47-451c-b2c9-fa275d7b3de5",
   "metadata": {},
   "source": [
    "# <en><center>Numpy Exercises</center></en>"
   ]
  },
  {
   "cell_type": "markdown",
   "id": "2c4cf593-3287-421d-9fc7-12168342c881",
   "metadata": {},
   "source": [
    "## Table of Contents"
   ]
  },
  {
   "cell_type": "markdown",
   "id": "fdf5f234-b7bd-4cd4-a163-8c33eefb611b",
   "metadata": {},
   "source": [
    "### Libraries"
   ]
  },
  {
   "cell_type": "code",
   "execution_count": 4,
   "id": "fca52b85-a74e-4eae-bc33-4a405d535b08",
   "metadata": {},
   "outputs": [],
   "source": [
    "import numpy as np"
   ]
  },
  {
   "cell_type": "markdown",
   "id": "222bbe3b-2d2f-45a1-89e6-7cac7f0254f8",
   "metadata": {},
   "source": [
    "Excercise 0"
   ]
  },
  {
   "cell_type": "code",
   "execution_count": 5,
   "id": "bac12495-55d1-469e-9d73-d8c9f8bdb78c",
   "metadata": {},
   "outputs": [
    {
     "name": "stdout",
     "output_type": "stream",
     "text": [
      "1.21.5\n"
     ]
    }
   ],
   "source": [
    "print(np.__version__)"
   ]
  },
  {
   "cell_type": "markdown",
   "id": "b614abec-532d-41eb-b7e5-8fba40a76a16",
   "metadata": {},
   "source": [
    "Exercise 1"
   ]
  },
  {
   "cell_type": "code",
   "execution_count": 6,
   "id": "4c91c36d-17cd-43bf-848e-3ec642aede8b",
   "metadata": {},
   "outputs": [],
   "source": [
    "A = np.array([[3,2,1,4],[5,2,1,6]])\n",
    "\n",
    "B = np.array([[3,2,1,4],[5,2,0,6]])\n",
    "\n",
    "C = np.array([[True, False, False],[True, True, True]])\n",
    "\n",
    "D = np.array([0.1,0.3])"
   ]
  },
  {
   "cell_type": "code",
   "execution_count": 12,
   "id": "6acbe25b-a9b2-4d0b-993f-3bde3daf6feb",
   "metadata": {},
   "outputs": [
    {
     "name": "stdout",
     "output_type": "stream",
     "text": [
      "A: True\n",
      "B: False\n",
      "C: False\n",
      "D: True\n"
     ]
    }
   ],
   "source": [
    "for name, array in zip(list(\"ABCD\"),[A,B,C,D]):\n",
    "    print(f\"{name}: {np.all(array)}\")"
   ]
  },
  {
   "cell_type": "markdown",
   "id": "bde1c54e-6bf2-4b51-9d05-432505527beb",
   "metadata": {},
   "source": [
    "Exercise 2"
   ]
  },
  {
   "cell_type": "code",
   "execution_count": 14,
   "id": "94420768-dc3e-4402-8522-2521ffac4f57",
   "metadata": {},
   "outputs": [
    {
     "name": "stdout",
     "output_type": "stream",
     "text": [
      "A: [ True  True]\n",
      "B: [ True False]\n",
      "C: [False  True]\n"
     ]
    }
   ],
   "source": [
    "for name, array in zip(list(\"ABC\"),[A,B,C]):\n",
    "    print(f\"{name}: {np.all(array, axis = 1)}\")"
   ]
  },
  {
   "cell_type": "markdown",
   "id": "3f702376-8813-4de6-98e3-dbc3140ca1e8",
   "metadata": {},
   "source": [
    "Exercise 3"
   ]
  },
  {
   "cell_type": "code",
   "execution_count": null,
   "id": "b6e5a3b5-0306-4a11-895a-7039a4bb6df0",
   "metadata": {},
   "outputs": [],
   "source": []
  }
 ],
 "metadata": {
  "kernelspec": {
   "display_name": "Python 3 (ipykernel)",
   "language": "python",
   "name": "python3"
  },
  "language_info": {
   "codemirror_mode": {
    "name": "ipython",
    "version": 3
   },
   "file_extension": ".py",
   "mimetype": "text/x-python",
   "name": "python",
   "nbconvert_exporter": "python",
   "pygments_lexer": "ipython3",
   "version": "3.9.12"
  }
 },
 "nbformat": 4,
 "nbformat_minor": 5
}
