{
 "cells": [
  {
   "cell_type": "markdown",
   "id": "dd39100e-39d0-492a-94e9-a673a6ded713",
   "metadata": {},
   "source": [
    "# <en><center>Pandas Exercises</center></en>"
   ]
  },
  {
   "cell_type": "markdown",
   "id": "3015f6c4-69c4-452f-8003-ea6afcd4040d",
   "metadata": {},
   "source": [
    "## Table of Contents\n",
    "\n",
    "- Exercises 0 to 10: "
   ]
  },
  {
   "cell_type": "code",
   "execution_count": null,
   "id": "57eda197-01c9-4029-a08f-6f2c8605af1f",
   "metadata": {},
   "outputs": [],
   "source": []
  }
 ],
 "metadata": {
  "kernelspec": {
   "display_name": "Python 3 (ipykernel)",
   "language": "python",
   "name": "python3"
  },
  "language_info": {
   "codemirror_mode": {
    "name": "ipython",
    "version": 3
   },
   "file_extension": ".py",
   "mimetype": "text/x-python",
   "name": "python",
   "nbconvert_exporter": "python",
   "pygments_lexer": "ipython3",
   "version": "3.9.12"
  }
 },
 "nbformat": 4,
 "nbformat_minor": 5
}
